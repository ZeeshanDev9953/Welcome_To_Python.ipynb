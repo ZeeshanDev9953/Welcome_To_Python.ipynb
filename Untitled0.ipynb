{
  "nbformat": 4,
  "nbformat_minor": 0,
  "metadata": {
    "colab": {
      "provenance": [],
      "authorship_tag": "ABX9TyMNIprTCh7f6fJKyZhN/PvN",
      "include_colab_link": true
    },
    "kernelspec": {
      "name": "python3",
      "display_name": "Python 3"
    },
    "language_info": {
      "name": "python"
    }
  },
  "cells": [
    {
      "cell_type": "markdown",
      "metadata": {
        "id": "view-in-github",
        "colab_type": "text"
      },
      "source": [
        "<a href=\"https://colab.research.google.com/github/ZeeshanDev9953/Welcome_To_Python.ipynb/blob/main/Untitled0.ipynb\" target=\"_parent\"><img src=\"https://colab.research.google.com/assets/colab-badge.svg\" alt=\"Open In Colab\"/></a>"
      ]
    },
    {
      "cell_type": "code",
      "execution_count": 1,
      "metadata": {
        "id": "diPQMFOwe1e4"
      },
      "outputs": [],
      "source": [
        "a=100"
      ]
    },
    {
      "cell_type": "code",
      "source": [
        "## Declaring and Assigning Variables\n",
        "\n",
        "age=21\n",
        "height=6.1\n",
        "name= \"Zeeshan\"\n",
        "is_student=True\n",
        "\n",
        "## printing the variables\n",
        "\n",
        "print(\"age :\", age)\n",
        "print(\"height:\", height)\n",
        "print(\"Name:\", name)\n"
      ],
      "metadata": {
        "colab": {
          "base_uri": "https://localhost:8080/"
        },
        "id": "xb24S_EVfhVy",
        "outputId": "ba822ac8-224d-4143-d78c-95a8f2f822e7"
      },
      "execution_count": 2,
      "outputs": [
        {
          "output_type": "stream",
          "name": "stdout",
          "text": [
            "age : 21\n",
            "height: 6.1\n",
            "Name: Zeeshan\n"
          ]
        }
      ]
    },
    {
      "cell_type": "code",
      "source": [
        "## Naming Convention\n",
        "## Variable names should be descriptive\n",
        "## They must start with a letter or an '_' and contains letter , numbers and underscores\n",
        "## Variables names case senstitive\n",
        "\n",
        "#valid variable names\n",
        "\n",
        "first_name=\"xyz\"\n",
        "last_name=\"abc\"\n",
        "print(\"first name:\", first_name)\n",
        "\n",
        "## Case sennstivity\n",
        "name=\"xyz\"\n",
        "Name=\"abc\"\n",
        "\n",
        "print(name)\n"
      ],
      "metadata": {
        "colab": {
          "base_uri": "https://localhost:8080/"
        },
        "id": "Xx7s48AvgLQr",
        "outputId": "bdaa64dc-3711-4002-dbb2-c6c9f3c14bed"
      },
      "execution_count": 7,
      "outputs": [
        {
          "output_type": "stream",
          "name": "stdout",
          "text": [
            "first name: xyz\n",
            "xyz\n"
          ]
        }
      ]
    },
    {
      "cell_type": "code",
      "source": [
        "## Understanding Variabe types\n",
        "## Python is dynamically typed , type of a variable is determined at runtime\n",
        "\n",
        "age=21\n",
        "print(type(age))"
      ],
      "metadata": {
        "colab": {
          "base_uri": "https://localhost:8080/"
        },
        "id": "kq-HmLWRhX-4",
        "outputId": "2e31a1e0-2837-4810-8eec-362af327bdd9"
      },
      "execution_count": 11,
      "outputs": [
        {
          "output_type": "stream",
          "name": "stdout",
          "text": [
            "<class 'int'>\n"
          ]
        }
      ]
    },
    {
      "cell_type": "code",
      "source": [
        "## Type checking and conversion\n",
        "\n",
        "type(height)"
      ],
      "metadata": {
        "colab": {
          "base_uri": "https://localhost:8080/"
        },
        "id": "2YtBuzrhiRGn",
        "outputId": "42ac0b3a-6032-4f13-f132-da49e3be6d64"
      },
      "execution_count": 12,
      "outputs": [
        {
          "output_type": "execute_result",
          "data": {
            "text/plain": [
              "float"
            ]
          },
          "metadata": {},
          "execution_count": 12
        }
      ]
    },
    {
      "cell_type": "code",
      "source": [
        "age =21\n",
        "print(type(age))\n",
        "\n",
        "## Type Conversion\n",
        "age_str=str(age)\n",
        "print(age_str)\n",
        "print(type(age_str))\n"
      ],
      "metadata": {
        "colab": {
          "base_uri": "https://localhost:8080/"
        },
        "id": "NImCurK1hCAg",
        "outputId": "b8423a8c-fb23-40c8-9848-de8e0d411ce8"
      },
      "execution_count": 13,
      "outputs": [
        {
          "output_type": "stream",
          "name": "stdout",
          "text": [
            "<class 'int'>\n",
            "21\n",
            "<class 'str'>\n"
          ]
        }
      ]
    },
    {
      "cell_type": "code",
      "source": [
        "name = \"1234\"  # A string with numbers\n",
        "print(type(name))  # Output: <class 'str'>\n",
        "\n",
        "name_int = int(name)  # Convert string to integer\n",
        "print(name_int)  # Output: 1234\n",
        "print(type(name_int))  # Output: <class 'int'>\n"
      ],
      "metadata": {
        "colab": {
          "base_uri": "https://localhost:8080/"
        },
        "id": "3Lx2w0x_jR6Q",
        "outputId": "8f014c3d-38dc-4a72-f238-223f657bb93d"
      },
      "execution_count": 16,
      "outputs": [
        {
          "output_type": "stream",
          "name": "stdout",
          "text": [
            "<class 'str'>\n",
            "1234\n",
            "<class 'int'>\n"
          ]
        }
      ]
    },
    {
      "cell_type": "code",
      "source": [
        "height=5.11\n",
        "type(height)\n",
        "\n",
        "str(height)"
      ],
      "metadata": {
        "colab": {
          "base_uri": "https://localhost:8080/",
          "height": 35
        },
        "id": "R9PdrDAcj9Vs",
        "outputId": "8a373f25-beb5-4b9e-c160-68e596d86f58"
      },
      "execution_count": 20,
      "outputs": [
        {
          "output_type": "execute_result",
          "data": {
            "text/plain": [
              "'5.11'"
            ],
            "application/vnd.google.colaboratory.intrinsic+json": {
              "type": "string"
            }
          },
          "metadata": {},
          "execution_count": 20
        }
      ]
    },
    {
      "cell_type": "code",
      "source": [
        "## Dynamic Typing\n",
        "## Python allows the type of a variable to change as the program executes\n",
        "var=10\n",
        "print(var,type(var))\n",
        "\n",
        "var=\"hello\"\n",
        "print(var, type(var))\n",
        "\n",
        "var=3.14\n",
        "print(var, type(var))"
      ],
      "metadata": {
        "colab": {
          "base_uri": "https://localhost:8080/"
        },
        "id": "i-yiWZ6-kgs8",
        "outputId": "1e708d33-13d8-479e-fd6e-5e4af0f6635c"
      },
      "execution_count": 22,
      "outputs": [
        {
          "output_type": "stream",
          "name": "stdout",
          "text": [
            "10 <class 'int'>\n",
            "hello <class 'str'>\n",
            "3.14 <class 'float'>\n"
          ]
        }
      ]
    },
    {
      "cell_type": "code",
      "source": [
        "## input\n",
        "\n",
        "age=input(\"what is the age \")\n",
        "print(age, type(age))\n",
        "\n",
        "name=input(\"name \")\n",
        "print(name)"
      ],
      "metadata": {
        "colab": {
          "base_uri": "https://localhost:8080/"
        },
        "id": "LCltSyfGlIVL",
        "outputId": "7e8b47bb-fdb2-48b1-ac36-9fe84febf3d3"
      },
      "execution_count": 28,
      "outputs": [
        {
          "output_type": "stream",
          "name": "stdout",
          "text": [
            "what is the age 21\n",
            "21 <class 'str'>\n",
            "name xyz\n",
            "xyz\n"
          ]
        }
      ]
    },
    {
      "cell_type": "code",
      "source": [
        "## Simple calculator\n",
        "num1 = float(input(\"Enter first number: \"))\n",
        "num2 = float(input(\"Enter second number: \"))\n",
        "\n",
        "sum = num1+num2\n",
        "difference = num1 - num2\n",
        "product = num1 * num2\n",
        "quotient = num1/num2\n",
        "\n",
        "print(\"Sum: \", sum)\n",
        "print(\"Difference: \",difference)\n",
        "print(\"Product: \",product)\n",
        "print(\"Quotient: \",quotient)\n",
        "\n"
      ],
      "metadata": {
        "colab": {
          "base_uri": "https://localhost:8080/"
        },
        "id": "NBPffBommWBD",
        "outputId": "e49423db-f301-48ac-a3f4-84b2ec9b7045"
      },
      "execution_count": 30,
      "outputs": [
        {
          "output_type": "stream",
          "name": "stdout",
          "text": [
            "Enter first number: 5\n",
            "Enter second number: 6\n",
            "Sum:  11.0\n",
            "Difference:  -1.0\n",
            "Product:  30.0\n",
            "Quotient:  0.8333333333333334\n"
          ]
        }
      ]
    }
  ]
}